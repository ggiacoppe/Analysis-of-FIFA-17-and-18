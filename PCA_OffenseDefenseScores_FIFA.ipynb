{
 "cells": [
  {
   "cell_type": "markdown",
   "id": "0a4a8b22",
   "metadata": {},
   "source": [
    "## Comparative analysis between FIFA 2017 and FIFA 2018 datasets\n",
    "Aim is to look at common feature attributes, conduct PCA and calculate offense and defensive scores."
   ]
  },
  {
   "cell_type": "code",
   "execution_count": null,
   "id": "3d6ac4c1",
   "metadata": {},
   "outputs": [],
   "source": [
    "import matplotlib.pyplot as plt\n",
    "from sklearn.decomposition import PCA\n",
    "import numpy as np\n",
    "\n",
    "#Checking which columns are common \n",
    "display(fifa_2017)\n",
    "display(fifa_2018)\n",
    "a = np.intersect1d(fifa_2017.columns, fifa_2018.columns)\n",
    "print(a)"
   ]
  },
  {
   "cell_type": "code",
   "execution_count": null,
   "id": "bf494503",
   "metadata": {},
   "outputs": [],
   "source": [
    "fifa_2018_playerstats = fifa_2018[['Overall', 'Potential',\n",
    "       'Acceleration', 'Aggression', 'Agility', 'Balance', 'Ball control',\n",
    "       'Composure', 'Crossing', 'Curve', 'Dribbling', 'Finishing',\n",
    "        'GK diving', 'GK handling', 'GK kicking',\n",
    "       'GK positioning', 'GK reflexes', 'Heading accuracy', 'Interceptions',\n",
    "       'Jumping', 'Long passing', 'Long shots', 'Marking',\n",
    "       'Positioning', 'Reactions', 'Short passing', 'Shot power',\n",
    "       'Sliding tackle', 'Sprint speed', 'Stamina', 'Standing tackle',\n",
    "       'Strength', 'Vision', 'Volleys']]\n",
    "\n",
    "# Features classified as Offensive Defensive or Neutral\n",
    "off_def_neutral=[['neutral','neutral','neutral',\n",
    "'neutral','neutral','neutral','neutral','neutral','offese','offense','neutral','offense',\n",
    "'defense','defence','defense','defense','defense','neutral','defense','neutral','neutral',\n",
    "'neutral''defense','neutral','neutral','neutral','offense','defense','neutral','neutral',\n",
    "'defense','neutral','neutral','offense']]\n",
    "\n"
   ]
  },
  {
   "cell_type": "code",
   "execution_count": null,
   "id": "ec068277",
   "metadata": {},
   "outputs": [],
   "source": [
    "teams=fifa_2018_subset.groupby(['Club']).mean()\n",
    "teams['Sum_of_row'] = teams.sum(axis=1)\n",
    "meanofsum = teams.groupby('Club')['Sum_of_row'].mean()\n",
    "meanofsum\n",
    "mean = teams.mean()\n",
    "#Correlations to indentify the two features that are strongly correlated\n",
    "B = teams - mean\n",
    "corr=B.corr()\n",
    "corr['Overall'].nlargest(2)\n",
    "B.plot.scatter(x = 'Reactions', y = 'Overall')\n",
    "\n",
    "#Eigenvalues and percent variation\n",
    "C = (1/646)*np.dot(B.T, B)\n",
    "eig = np.linalg.eig(C)\n",
    "def percent_variation(n,eig):\n",
    "    \"\"\"Takes in the output of np.linalg.eig as eig and returns percent variation of first n components\"\"\"\n",
    "    return sum(eig[0][:n])/sum(eig[0])\n"
   ]
  },
  {
   "cell_type": "code",
   "execution_count": null,
   "id": "6ce5d18d",
   "metadata": {},
   "outputs": [],
   "source": [
    "#Principle Component Analysis\n",
    "pca = PCA(n_components=2)\n",
    "pca.fit(teams)\n",
    "pca.explained_variance_ratio_\n",
    "teams_pca = pca.transform(teams)\n",
    "teams_pca_df = pd.DataFrame(data = teams_pca, columns = ['PC1', 'PC2'])\n",
    "teams_pca\n",
    "teams_pca_df.plot.scatter(x = 'PC1', y = 'PC2')\n"
   ]
  },
  {
   "cell_type": "code",
   "execution_count": null,
   "id": "e67c49fd",
   "metadata": {},
   "outputs": [],
   "source": [
    "#Calculating Offense and Defense score to make the data 2-D:\n",
    "off_score=Mean(Mean_of_sum(off_attributes)+Mean_of_sum(neutral_attributes))/total # players in a team\n",
    "def_score=Mean(Mean_of_sum(def_attributes)+Mean_of_sum(neutral_attributes))/total # players in a team\n",
    "\n",
    "teams['off_Sum_of_row'] = teams['Crossing']+teams['Curve']+teams['Finishing']+teams['Shot power']+ teams['Volleys']+ teams['Overall']+teams['Potential']+teams['Acceleration']+teams['Agility']+teams['Balance']+teams['Ball control']\n",
    "off_meanofsum = teams.groupby('Club')['off_Sum_of_row'].mean()\n",
    "print(off_meanofsum)\n",
    "offensive_score=off_meanofsum/no_of_players\n",
    "offensive_score\n",
    "\n",
    "teams['def_Sum_of_row'] = teams['GK diving']+teams['GK handling']+teams['GK kicking']+teams['GK positioning']+ teams['GK reflexes']+ +teams['Interceptions']+teams['Marking']+teams['Sliding tackle']+teams['Standing tackle']+teams['Overall']+teams['Potential']+teams['Acceleration']+teams['Agility']+teams['Balance']+teams['Ball control']\n",
    "def_meanofsum = teams.groupby('Club')['def_Sum_of_row'].mean()\n",
    "print(def_meanofsum)\n",
    "defensive_score=def_meanofsum/no_of_players\n",
    "defensive_score"
   ]
  }
 ],
 "metadata": {
  "kernelspec": {
   "display_name": "Python 3 (ipykernel)",
   "language": "python",
   "name": "python3"
  },
  "language_info": {
   "codemirror_mode": {
    "name": "ipython",
    "version": 3
   },
   "file_extension": ".py",
   "mimetype": "text/x-python",
   "name": "python",
   "nbconvert_exporter": "python",
   "pygments_lexer": "ipython3",
   "version": "3.9.7"
  }
 },
 "nbformat": 4,
 "nbformat_minor": 5
}
